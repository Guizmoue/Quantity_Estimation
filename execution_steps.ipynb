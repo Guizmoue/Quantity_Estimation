{
 "cells": [
  {
   "cell_type": "markdown",
   "metadata": {},
   "source": [
    "#### Étape 1 : Traduction\n",
    "- Happy Transformer : https://happytransformer.com/\n",
    "- Deep Translator : https://deep-translator.readthedocs.io/en/latest/index.html#\n"
   ]
  },
  {
   "cell_type": "code",
   "execution_count": 1,
   "metadata": {},
   "outputs": [
    {
     "name": "stderr",
     "output_type": "stream",
     "text": [
      "/home/guilhem/Documents/Master_TAL/Technique_Web/Venv_Test/lib/python3.10/site-packages/tqdm/auto.py:21: TqdmWarning: IProgress not found. Please update jupyter and ipywidgets. See https://ipywidgets.readthedocs.io/en/stable/user_install.html\n",
      "  from .autonotebook import tqdm as notebook_tqdm\n"
     ]
    }
   ],
   "source": [
    "from happytransformer import HappyTextToText, TTSettings\n",
    "from collections import defaultdict, OrderedDict\n",
    "from curl_cffi import requests\n",
    "from bs4 import BeautifulSoup as soup\n",
    "import json\n",
    "from deep_translator import GoogleTranslator\n",
    "import deepl\n",
    "import config"
   ]
  },
  {
   "cell_type": "markdown",
   "metadata": {},
   "source": [
    "#### HappyTransformers"
   ]
  },
  {
   "cell_type": "code",
   "execution_count": 2,
   "metadata": {},
   "outputs": [
    {
     "name": "stdout",
     "output_type": "stream",
     "text": [
      "53 defaultdict(<class 'str'>, {'amharic': 'am', 'arabic': 'ar', 'basque': 'eu', 'bengali': 'bn', 'english': 'en', 'portuguese': 'pt-PT', 'bulgarian': 'bg', 'catalan': 'ca', 'cherokee': 'chr', 'croatian': 'hr', 'czech': 'cs', 'danish': 'da', 'dutch': 'nl', 'estonian': 'et', 'filipino': 'fil', 'finnish': 'fi', 'french': 'fr', 'german': 'de', 'greek': 'el', 'gujarati': 'gu', 'hebrew': 'iw', 'hindi': 'hi', 'hungarian': 'hu', 'icelandic': 'is', 'indonesian': 'id', 'italian': 'it', 'japanese': 'ja', 'kannada': 'kn', 'korean': 'ko', 'latvian': 'lv', 'lithuanian': 'lt', 'malay': 'ms', 'malayalam': 'ml', 'marathi': 'mr', 'norwegian': 'no', 'polish': 'pl', 'romanian': 'ro', 'russian': 'ru', 'serbian': 'sr', 'chinese': 'zh-TW', 'slovak': 'sk', 'slovenian': 'sl', 'spanish': 'es', 'swahili': 'sw', 'swedish': 'sv', 'tamil': 'ta', 'telugu': 'te', 'thai': 'th', 'turkish': 'tr', 'urdu': 'ur', 'ukrainian': 'uk', 'vietnamese': 'vi', 'welsh': 'cy'})\n"
     ]
    },
    {
     "name": "stderr",
     "output_type": "stream",
     "text": [
      "05/06/2025 00:41:13 - INFO - happytransformer.happy_transformer -   Using model: cpu\n"
     ]
    },
    {
     "name": "stdout",
     "output_type": "stream",
     "text": [
      "Quel est le temps aujourd'hui et demain ?\n"
     ]
    }
   ],
   "source": [
    "def get_tags_htransformers(url) -> dict:\n",
    "\n",
    "    response = requests.get(url, impersonate=\"firefox133\")\n",
    "    page = soup(response.text, 'html.parser')\n",
    "    table = page.find_all(\"td\")\n",
    "\n",
    "    dict_lang = defaultdict(str)\n",
    "    for r in range(0, len(table)-1, 2):\n",
    "        dict_lang[table[r].text.lower().split()[0]] = table[r+1].text\n",
    "\n",
    "    return dict_lang\n",
    "\n",
    "url = \"https://developers.google.com/admin-sdk/directory/v1/languages\"\n",
    "dict_langs_ht = get_tags_htransformers(url)\n",
    "print(len(dict_langs_ht), dict_langs_ht)\n",
    "\n",
    "source = \"en\"\n",
    "target = \"fr\"\n",
    "\n",
    "model_LANG = f\"Helsinki-NLP/opus-mt-{source}-{target}\"\n",
    "\n",
    "inputs = \"What's the weather like today and tomorrow?\"\n",
    "settings = TTSettings(do_sample=True, top_k=50, temperature=0.7)\n",
    "happy_tt = HappyTextToText(\"MARIAN\", model_LANG)\n",
    "\n",
    "outputs = happy_tt.generate_text(inputs, args=settings).text\n",
    "\n",
    "print(outputs)"
   ]
  },
  {
   "cell_type": "markdown",
   "metadata": {},
   "source": [
    "#### Google Translate"
   ]
  },
  {
   "cell_type": "code",
   "execution_count": 3,
   "metadata": {},
   "outputs": [
    {
     "name": "stdout",
     "output_type": "stream",
     "text": [
      "Hallo Menschen\n",
      "133 {'afrikaans': 'af', 'albanian': 'sq', 'amharic': 'am', 'arabic': 'ar', 'armenian': 'hy', 'assamese': 'as', 'aymara': 'ay', 'azerbaijani': 'az', 'bambara': 'bm', 'basque': 'eu', 'belarusian': 'be', 'bengali': 'bn', 'bhojpuri': 'bho', 'bosnian': 'bs', 'bulgarian': 'bg', 'catalan': 'ca', 'cebuano': 'ceb', 'chichewa': 'ny', 'chinese (simplified)': 'zh-CN', 'chinese (traditional)': 'zh-TW', 'corsican': 'co', 'croatian': 'hr', 'czech': 'cs', 'danish': 'da', 'dhivehi': 'dv', 'dogri': 'doi', 'dutch': 'nl', 'english': 'en', 'esperanto': 'eo', 'estonian': 'et', 'ewe': 'ee', 'filipino': 'tl', 'finnish': 'fi', 'french': 'fr', 'frisian': 'fy', 'galician': 'gl', 'georgian': 'ka', 'german': 'de', 'greek': 'el', 'guarani': 'gn', 'gujarati': 'gu', 'haitian creole': 'ht', 'hausa': 'ha', 'hawaiian': 'haw', 'hebrew': 'iw', 'hindi': 'hi', 'hmong': 'hmn', 'hungarian': 'hu', 'icelandic': 'is', 'igbo': 'ig', 'ilocano': 'ilo', 'indonesian': 'id', 'irish': 'ga', 'italian': 'it', 'japanese': 'ja', 'javanese': 'jw', 'kannada': 'kn', 'kazakh': 'kk', 'khmer': 'km', 'kinyarwanda': 'rw', 'konkani': 'gom', 'korean': 'ko', 'krio': 'kri', 'kurdish (kurmanji)': 'ku', 'kurdish (sorani)': 'ckb', 'kyrgyz': 'ky', 'lao': 'lo', 'latin': 'la', 'latvian': 'lv', 'lingala': 'ln', 'lithuanian': 'lt', 'luganda': 'lg', 'luxembourgish': 'lb', 'macedonian': 'mk', 'maithili': 'mai', 'malagasy': 'mg', 'malay': 'ms', 'malayalam': 'ml', 'maltese': 'mt', 'maori': 'mi', 'marathi': 'mr', 'meiteilon (manipuri)': 'mni-Mtei', 'mizo': 'lus', 'mongolian': 'mn', 'myanmar': 'my', 'nepali': 'ne', 'norwegian': 'no', 'odia (oriya)': 'or', 'oromo': 'om', 'pashto': 'ps', 'persian': 'fa', 'polish': 'pl', 'portuguese': 'pt', 'punjabi': 'pa', 'quechua': 'qu', 'romanian': 'ro', 'russian': 'ru', 'samoan': 'sm', 'sanskrit': 'sa', 'scots gaelic': 'gd', 'sepedi': 'nso', 'serbian': 'sr', 'sesotho': 'st', 'shona': 'sn', 'sindhi': 'sd', 'sinhala': 'si', 'slovak': 'sk', 'slovenian': 'sl', 'somali': 'so', 'spanish': 'es', 'sundanese': 'su', 'swahili': 'sw', 'swedish': 'sv', 'tajik': 'tg', 'tamil': 'ta', 'tatar': 'tt', 'telugu': 'te', 'thai': 'th', 'tigrinya': 'ti', 'tsonga': 'ts', 'turkish': 'tr', 'turkmen': 'tk', 'twi': 'ak', 'ukrainian': 'uk', 'urdu': 'ur', 'uyghur': 'ug', 'uzbek': 'uz', 'vietnamese': 'vi', 'welsh': 'cy', 'xhosa': 'xh', 'yiddish': 'yi', 'yoruba': 'yo', 'zulu': 'zu'}\n"
     ]
    }
   ],
   "source": [
    "inputs = \"Salut les humains\"\n",
    "\n",
    "outputs = GoogleTranslator(source='fr', target='de').translate(text=inputs)\n",
    "print(outputs)\n",
    "\n",
    "dict_langs_google = GoogleTranslator().get_supported_languages(as_dict=True) \n",
    "\n",
    "print(len(dict_langs_google), dict_langs_google)"
   ]
  },
  {
   "cell_type": "markdown",
   "metadata": {},
   "source": [
    "#### Deelp"
   ]
  },
  {
   "cell_type": "code",
   "execution_count": 4,
   "metadata": {},
   "outputs": [
    {
     "name": "stdout",
     "output_type": "stream",
     "text": [
      "30 defaultdict(<class 'str'>, {'arabic': 'ar', 'bulgarian': 'bg', 'czech': 'cs', 'danish': 'da', 'german': 'de', 'greek': 'el', 'english': 'en', 'spanish': 'es', 'estonian': 'et', 'finnish': 'fi', 'french': 'fr', 'hungarian': 'hu', 'indonesian': 'id', 'italian': 'it', 'japanese': 'ja', 'korean': 'ko', 'lithuanian': 'lt', 'latvian': 'lv', 'norwegian': 'nb', 'dutch': 'nl', 'polish': 'pl', 'portuguese': 'pt', 'romanian': 'ro', 'russian': 'ru', 'slovak': 'sk', 'slovenian': 'sl', 'swedish': 'sv', 'turkish': 'tr', 'ukrainian': 'uk', 'chinese': 'zh'})\n",
      "大家好\n"
     ]
    }
   ],
   "source": [
    "def get_tags_deepl(url: str) -> dict:\n",
    "    response = requests.get(url, impersonate=\"firefox133\")\n",
    "    page = soup(response.text, 'html.parser')\n",
    "    balise = page.find(\"ul\", class_=\"min-w-0 space-y-2 mx-auto w-full decoration-primary/6 max-w-3xl page-api-block:ml-0\")\n",
    "\n",
    "    table = balise.find_all(\"li\")\n",
    "\n",
    "    dict_lang = defaultdict(str)\n",
    "    for row in table:\n",
    "        code = row.find(\"p\").text.split(\"-\")[0].strip().lower()\n",
    "        lang = row.find(\"p\").text.split(\"-\")[1].strip().split()[0].lower()\n",
    "        dict_lang[lang] = code\n",
    "    return dict_lang\n",
    "\n",
    "url = \"https://developers.deepl.com/docs/getting-started/supported-languages\"\n",
    "dict_langs_deepl = get_tags_deepl(url)\n",
    "print(len(dict_langs_deepl), dict_langs_deepl)\n",
    "\n",
    "inputs = \"Bonjour tous le monde\"\n",
    "\n",
    "auth_key = config.api_key\n",
    "translator = deepl.Translator(auth_key)\n",
    "outputs = translator.translate_text(inputs, source_lang=\"FR\", target_lang=\"ZH\")\n",
    "print(outputs.text)"
   ]
  },
  {
   "cell_type": "markdown",
   "metadata": {},
   "source": [
    "#### Fichier JSON"
   ]
  },
  {
   "cell_type": "code",
   "execution_count": 5,
   "metadata": {},
   "outputs": [
    {
     "name": "stdout",
     "output_type": "stream",
     "text": [
      "[('amharic', 'am'), ('arabic', 'ar'), ('basque', 'eu'), ('bengali', 'bn'), ('english', 'en'), ('portuguese', 'pt-PT'), ('bulgarian', 'bg'), ('catalan', 'ca'), ('cherokee', 'chr'), ('croatian', 'hr'), ('czech', 'cs'), ('danish', 'da'), ('dutch', 'nl'), ('estonian', 'et'), ('filipino', 'fil'), ('finnish', 'fi'), ('french', 'fr'), ('german', 'de'), ('greek', 'el'), ('gujarati', 'gu'), ('hebrew', 'iw'), ('hindi', 'hi'), ('hungarian', 'hu'), ('icelandic', 'is'), ('indonesian', 'id'), ('italian', 'it'), ('japanese', 'ja'), ('kannada', 'kn'), ('korean', 'ko'), ('latvian', 'lv'), ('lithuanian', 'lt'), ('malay', 'ms'), ('malayalam', 'ml'), ('marathi', 'mr'), ('norwegian', 'no'), ('polish', 'pl'), ('romanian', 'ro'), ('russian', 'ru'), ('serbian', 'sr'), ('chinese', 'zh-TW'), ('slovak', 'sk'), ('slovenian', 'sl'), ('spanish', 'es'), ('swahili', 'sw'), ('swedish', 'sv'), ('tamil', 'ta'), ('telugu', 'te'), ('thai', 'th'), ('turkish', 'tr'), ('urdu', 'ur'), ('ukrainian', 'uk'), ('vietnamese', 'vi'), ('welsh', 'cy')]\n",
      "[('afrikaans', 'af'), ('albanian', 'sq'), ('amharic', 'am'), ('arabic', 'ar'), ('armenian', 'hy'), ('assamese', 'as'), ('aymara', 'ay'), ('azerbaijani', 'az'), ('bambara', 'bm'), ('basque', 'eu'), ('belarusian', 'be'), ('bengali', 'bn'), ('bhojpuri', 'bho'), ('bosnian', 'bs'), ('bulgarian', 'bg'), ('catalan', 'ca'), ('cebuano', 'ceb'), ('chichewa', 'ny'), ('chinese (simplified)', 'zh-CN'), ('chinese (traditional)', 'zh-TW'), ('corsican', 'co'), ('croatian', 'hr'), ('czech', 'cs'), ('danish', 'da'), ('dhivehi', 'dv'), ('dogri', 'doi'), ('dutch', 'nl'), ('english', 'en'), ('esperanto', 'eo'), ('estonian', 'et'), ('ewe', 'ee'), ('filipino', 'tl'), ('finnish', 'fi'), ('french', 'fr'), ('frisian', 'fy'), ('galician', 'gl'), ('georgian', 'ka'), ('german', 'de'), ('greek', 'el'), ('guarani', 'gn'), ('gujarati', 'gu'), ('haitian creole', 'ht'), ('hausa', 'ha'), ('hawaiian', 'haw'), ('hebrew', 'iw'), ('hindi', 'hi'), ('hmong', 'hmn'), ('hungarian', 'hu'), ('icelandic', 'is'), ('igbo', 'ig'), ('ilocano', 'ilo'), ('indonesian', 'id'), ('irish', 'ga'), ('italian', 'it'), ('japanese', 'ja'), ('javanese', 'jw'), ('kannada', 'kn'), ('kazakh', 'kk'), ('khmer', 'km'), ('kinyarwanda', 'rw'), ('konkani', 'gom'), ('korean', 'ko'), ('krio', 'kri'), ('kurdish (kurmanji)', 'ku'), ('kurdish (sorani)', 'ckb'), ('kyrgyz', 'ky'), ('lao', 'lo'), ('latin', 'la'), ('latvian', 'lv'), ('lingala', 'ln'), ('lithuanian', 'lt'), ('luganda', 'lg'), ('luxembourgish', 'lb'), ('macedonian', 'mk'), ('maithili', 'mai'), ('malagasy', 'mg'), ('malay', 'ms'), ('malayalam', 'ml'), ('maltese', 'mt'), ('maori', 'mi'), ('marathi', 'mr'), ('meiteilon (manipuri)', 'mni-Mtei'), ('mizo', 'lus'), ('mongolian', 'mn'), ('myanmar', 'my'), ('nepali', 'ne'), ('norwegian', 'no'), ('odia (oriya)', 'or'), ('oromo', 'om'), ('pashto', 'ps'), ('persian', 'fa'), ('polish', 'pl'), ('portuguese', 'pt'), ('punjabi', 'pa'), ('quechua', 'qu'), ('romanian', 'ro'), ('russian', 'ru'), ('samoan', 'sm'), ('sanskrit', 'sa'), ('scots gaelic', 'gd'), ('sepedi', 'nso'), ('serbian', 'sr'), ('sesotho', 'st'), ('shona', 'sn'), ('sindhi', 'sd'), ('sinhala', 'si'), ('slovak', 'sk'), ('slovenian', 'sl'), ('somali', 'so'), ('spanish', 'es'), ('sundanese', 'su'), ('swahili', 'sw'), ('swedish', 'sv'), ('tajik', 'tg'), ('tamil', 'ta'), ('tatar', 'tt'), ('telugu', 'te'), ('thai', 'th'), ('tigrinya', 'ti'), ('tsonga', 'ts'), ('turkish', 'tr'), ('turkmen', 'tk'), ('twi', 'ak'), ('ukrainian', 'uk'), ('urdu', 'ur'), ('uyghur', 'ug'), ('uzbek', 'uz'), ('vietnamese', 'vi'), ('welsh', 'cy'), ('xhosa', 'xh'), ('yiddish', 'yi'), ('yoruba', 'yo'), ('zulu', 'zu')]\n",
      "[('arabic', 'ar'), ('bulgarian', 'bg'), ('czech', 'cs'), ('danish', 'da'), ('german', 'de'), ('greek', 'el'), ('english', 'en'), ('spanish', 'es'), ('estonian', 'et'), ('finnish', 'fi'), ('french', 'fr'), ('hungarian', 'hu'), ('indonesian', 'id'), ('italian', 'it'), ('japanese', 'ja'), ('korean', 'ko'), ('lithuanian', 'lt'), ('latvian', 'lv'), ('norwegian', 'nb'), ('dutch', 'nl'), ('polish', 'pl'), ('portuguese', 'pt'), ('romanian', 'ro'), ('russian', 'ru'), ('slovak', 'sk'), ('slovenian', 'sl'), ('swedish', 'sv'), ('turkish', 'tr'), ('ukrainian', 'uk'), ('chinese', 'zh')]\n",
      "27 {('greek', 'el'), ('bulgarian', 'bg'), ('swedish', 'sv'), ('russian', 'ru'), ('japanese', 'ja'), ('slovak', 'sk'), ('english', 'en'), ('dutch', 'nl'), ('german', 'de'), ('finnish', 'fi'), ('arabic', 'ar'), ('estonian', 'et'), ('french', 'fr'), ('hungarian', 'hu'), ('romanian', 'ro'), ('czech', 'cs'), ('latvian', 'lv'), ('spanish', 'es'), ('turkish', 'tr'), ('ukrainian', 'uk'), ('lithuanian', 'lt'), ('slovenian', 'sl'), ('danish', 'da'), ('italian', 'it'), ('polish', 'pl'), ('korean', 'ko'), ('indonesian', 'id')}\n",
      "OrderedDict([('arabic', 'ar'), ('bulgarian', 'bg'), ('czech', 'cs'), ('danish', 'da'), ('dutch', 'nl'), ('english', 'en'), ('estonian', 'et'), ('finnish', 'fi'), ('french', 'fr'), ('german', 'de'), ('greek', 'el'), ('hungarian', 'hu'), ('indonesian', 'id'), ('italian', 'it'), ('japanese', 'ja'), ('korean', 'ko'), ('latvian', 'lv'), ('lithuanian', 'lt'), ('polish', 'pl'), ('romanian', 'ro'), ('russian', 'ru'), ('slovak', 'sk'), ('slovenian', 'sl'), ('spanish', 'es'), ('swedish', 'sv'), ('turkish', 'tr'), ('ukrainian', 'uk')])\n"
     ]
    }
   ],
   "source": [
    "tuple_ht = list(dict_langs_ht.items())\n",
    "print(tuple_ht)\n",
    "tuple_google = list(dict_langs_google.items())\n",
    "print(tuple_google)\n",
    "tuple_deepl = list(dict_langs_deepl.items())\n",
    "print(tuple_deepl)\n",
    "\n",
    "set_all = set(tuple_ht) & set(tuple_google) & set(tuple_deepl)\n",
    "print(len(set_all), set_all)\n",
    "dict_all = {key: value for key, value in set_all}\n",
    "dict_sorted_all = OrderedDict(sorted(dict_all.items(), key=lambda t: t[0]))\n",
    "print(dict_sorted_all)\n",
    "\n",
    "# Sauvegarder le dictionnaire des langues en fichier json \n",
    "with open(\"lang_tags.json\", \"w\") as file:\n",
    "    json.dump(dict_sorted_all, file, indent=4)"
   ]
  },
  {
   "cell_type": "markdown",
   "metadata": {},
   "source": [
    "#### Étape 2 : Quantity Estimation\n",
    "Pour une évaluation au niveau de la phrase, il existe deux architectures différentes : Mono et Siamese.\n",
    "\n",
    "TransQuest : https://github.com/TharinduDR/TransQuest"
   ]
  },
  {
   "cell_type": "code",
   "execution_count": 6,
   "metadata": {},
   "outputs": [],
   "source": [
    "import torch # Importer PyTorch\n",
    "from transquest.algo.sentence_level.siamesetransquest.run_model import SiameseTransQuestModel # Importer modèle Siamese\n",
    "from transquest.algo.sentence_level.monotransquest.run_model import MonoTransQuestModel # Importer modèle Mono"
   ]
  },
  {
   "cell_type": "markdown",
   "metadata": {},
   "source": [
    "##### Architecture Mono"
   ]
  },
  {
   "cell_type": "code",
   "execution_count": 2,
   "metadata": {},
   "outputs": [
    {
     "name": "stderr",
     "output_type": "stream",
     "text": [
      "/home/guilhem/Documents/Master_TAL/Technique_Web/Questy/Venv_Questy/lib/python3.10/site-packages/transquest/algo/sentence_level/monotransquest/run_model.py:251: UserWarning: use_multiprocessing automatically disabled as xlmroberta fails when using multiprocessing for feature conversion.\n",
      "  warnings.warn(\n",
      "100%|██████████| 1/1 [00:00<00:00, 6168.09it/s]\n",
      "100%|██████████| 1/1 [00:00<00:00,  6.78it/s]"
     ]
    },
    {
     "name": "stdout",
     "output_type": "stream",
     "text": [
      "0.7821284532546997 0.7821284532546997\n"
     ]
    },
    {
     "name": "stderr",
     "output_type": "stream",
     "text": [
      "\n"
     ]
    }
   ],
   "source": [
    "# Chargement du modèle pré-entraîné \"monotransquest-da-multilingual\".\n",
    "model = MonoTransQuestModel(\"xlmroberta\", \"TransQuest/monotransquest-da-multilingual\", num_labels=1, use_cuda=torch.cuda.is_available())\n",
    "\n",
    "inputs_txt = \"Bonjour tous le monde\"\n",
    "outputs_txt = \"大家好\"\n",
    "\n",
    "# Prédiction de la qualité de traduction pour une paire de phrases.\n",
    "pred, raw_output = model.predict([[inputs_txt, outputs_txt]])\n",
    "print(pred, raw_output)"
   ]
  },
  {
   "cell_type": "markdown",
   "metadata": {},
   "source": [
    "##### Architecture : Siamese"
   ]
  },
  {
   "cell_type": "code",
   "execution_count": 7,
   "metadata": {},
   "outputs": [
    {
     "name": "stderr",
     "output_type": "stream",
     "text": [
      "Batches: 100%|██████████| 1/1 [00:00<00:00,  2.79it/s]\n",
      "Batches: 100%|██████████| 1/1 [00:00<00:00,  8.74it/s]"
     ]
    },
    {
     "name": "stdout",
     "output_type": "stream",
     "text": [
      "0.8820886\n"
     ]
    },
    {
     "name": "stderr",
     "output_type": "stream",
     "text": [
      "\n"
     ]
    }
   ],
   "source": [
    "# Chargement du modèle pré-entraîné \"siamesetransquest-da-multilingual\".\n",
    "model = SiameseTransQuestModel(\"TransQuest/siamesetransquest-da-multilingual\")\n",
    "\n",
    "inputs_txt = \"Bonjour tous le monde\"\n",
    "outputs_txt = \"大家好\"\n",
    "\n",
    "# Prédiction de la qualité de traduction pour une paire de phrases.\n",
    "pred = model.predict([[inputs_txt, outputs_txt]])\n",
    "print(pred)"
   ]
  }
 ],
 "metadata": {
  "kernelspec": {
   "display_name": "Venv_Test",
   "language": "python",
   "name": "python3"
  },
  "language_info": {
   "codemirror_mode": {
    "name": "ipython",
    "version": 3
   },
   "file_extension": ".py",
   "mimetype": "text/x-python",
   "name": "python",
   "nbconvert_exporter": "python",
   "pygments_lexer": "ipython3",
   "version": "3.10.16"
  }
 },
 "nbformat": 4,
 "nbformat_minor": 2
}
