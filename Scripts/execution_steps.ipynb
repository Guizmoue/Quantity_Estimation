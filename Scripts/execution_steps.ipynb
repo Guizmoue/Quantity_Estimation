{
 "cells": [
  {
   "cell_type": "markdown",
   "metadata": {},
   "source": [
    "Happy Transformer : https://happytransformer.com/"
   ]
  },
  {
   "cell_type": "code",
   "execution_count": null,
   "metadata": {},
   "outputs": [
    {
     "name": "stderr",
     "output_type": "stream",
     "text": [
      "/home/guilhem/Documents/Master_TAL/Technique_Web/Venv_TransQuest/lib/python3.10/site-packages/tqdm/auto.py:21: TqdmWarning: IProgress not found. Please update jupyter and ipywidgets. See https://ipywidgets.readthedocs.io/en/stable/user_install.html\n",
      "  from .autonotebook import tqdm as notebook_tqdm\n",
      "/home/guilhem/Documents/Master_TAL/Technique_Web/Venv_TransQuest/lib/python3.10/site-packages/transformers/models/marian/tokenization_marian.py:198: UserWarning: Recommended: pip install sacremoses.\n",
      "  warnings.warn(\"Recommended: pip install sacremoses.\")\n",
      "/home/guilhem/Documents/Master_TAL/Technique_Web/Venv_TransQuest/lib/python3.10/site-packages/torch/cuda/__init__.py:129: UserWarning: CUDA initialization: The NVIDIA driver on your system is too old (found version 11040). Please update your GPU driver by downloading and installing a new version from the URL: http://www.nvidia.com/Download/index.aspx Alternatively, go to: https://pytorch.org to install a PyTorch version that has been compiled with your version of the CUDA driver. (Triggered internally at /pytorch/c10/cuda/CUDAFunctions.cpp:109.)\n",
      "  return torch._C._cuda_getDeviceCount() > 0\n",
      "03/21/2025 23:40:57 - INFO - happytransformer.happy_transformer -   Using device: cpu\n",
      "03/21/2025 23:40:57 - INFO - happytransformer.happy_transformer -   Moving model to cpu\n",
      "03/21/2025 23:40:57 - INFO - happytransformer.happy_transformer -   Initializing a pipeline\n"
     ]
    },
    {
     "name": "stdout",
     "output_type": "stream",
     "text": [
      "Quel est le temps aujourd'hui et demain?\n"
     ]
    }
   ],
   "source": [
    "from happytransformer import HappyTextToText, TTSettings\n",
    "from collections import defaultdict\n",
    "from curl_cffi import requests\n",
    "from bs4 import BeautifulSoup as soup\n",
    "import json\n",
    "\n",
    "def get_lang_tags(url):\n",
    "\n",
    "    responce = requests.get(url, impersonate=\"firefox133\")\n",
    "    page = soup(responce.text, 'html.parser')\n",
    "    table = page.find_all(\"td\")\n",
    "\n",
    "    dict_lang = defaultdict(str)\n",
    "    for r in range(0, len(table)-1, 2):\n",
    "        dict_lang[table[r].text] = table[r+1].text\n",
    "\n",
    "    return dict_lang\n",
    "\n",
    "url_lang = \"https://developers.google.com/admin-sdk/directory/v1/languages\"\n",
    "lang_tags = get_lang_tags(url_lang)\n",
    "\n",
    "# Sauvegarder le dictionnaire des langues en fichier json \n",
    "with open(\"lang_tags.json\", \"w\") as file:\n",
    "    json.dump(lang_tags, file, indent=4)\n",
    "\n",
    "source = \"en\"\n",
    "target = \"fr\"\n",
    "\n",
    "model_LANG = f\"Helsinki-NLP/opus-mt-{source}-{target}\"\n",
    "\n",
    "inputs = \"What's the weather like today and tomorrow?\"\n",
    "settings = TTSettings(do_sample=True, top_k=50, temperature=0.7)\n",
    "happy_tt = HappyTextToText(\"MARIAN\", model_LANG)\n",
    "\n",
    "outputs = happy_tt.generate_text(inputs, args=settings).text\n",
    "\n",
    "print(outputs)"
   ]
  },
  {
   "cell_type": "markdown",
   "metadata": {},
   "source": [
    "TransQuest : https://github.com/TharinduDR/TransQuest"
   ]
  },
  {
   "cell_type": "code",
   "execution_count": 2,
   "metadata": {},
   "outputs": [
    {
     "name": "stderr",
     "output_type": "stream",
     "text": [
      "Batches: 100%|██████████| 1/1 [00:00<00:00,  6.33it/s]\n",
      "Batches: 100%|██████████| 1/1 [00:00<00:00,  7.68it/s]"
     ]
    },
    {
     "name": "stdout",
     "output_type": "stream",
     "text": [
      "0.8976539\n"
     ]
    },
    {
     "name": "stderr",
     "output_type": "stream",
     "text": [
      "\n"
     ]
    }
   ],
   "source": [
    "import torch # Importer PyTorch\n",
    "from transquest.algo.sentence_level.siamesetransquest.run_model import SiameseTransQuestModel # Importer modèle SiameseTransQuestModel\n",
    "\n",
    "# Chargement du modèle pré-entraîné \"siamesetransquest-da-multilingual\".\n",
    "model = SiameseTransQuestModel(\"TransQuest/siamesetransquest-da-multilingual\")\n",
    "\n",
    "# Prédiction de la qualité de traduction pour une paire de phrases.\n",
    "predictions = model.predict([[inputs, outputs]])\n",
    "print(predictions)"
   ]
  }
 ],
 "metadata": {
  "kernelspec": {
   "display_name": "Venv_TransQuest",
   "language": "python",
   "name": "python3"
  },
  "language_info": {
   "codemirror_mode": {
    "name": "ipython",
    "version": 3
   },
   "file_extension": ".py",
   "mimetype": "text/x-python",
   "name": "python",
   "nbconvert_exporter": "python",
   "pygments_lexer": "ipython3",
   "version": "3.10.16"
  }
 },
 "nbformat": 4,
 "nbformat_minor": 2
}
